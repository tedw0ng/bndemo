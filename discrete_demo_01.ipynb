{
 "cells": [
  {
   "cell_type": "code",
   "execution_count": 154,
   "metadata": {
    "scrolled": false
   },
   "outputs": [],
   "source": [
    "import random, json\n",
    "from itertools import product as iterprod\n",
    "from collections import defaultdict\n",
    "import networkx as nx\n",
    "from pyvis.network import Network\n",
    "from pgmpy.factors.discrete import TabularCPD\n",
    "#from pgmpy.factors.continuous import ContinuousFactor\n",
    "from pgmpy.models import BayesianNetwork\n",
    "from pgmpy.inference import VariableElimination\n",
    "from pgmpy.inference import BeliefPropagation\n",
    "from ipywidgets import interact, interactive, interact_manual, Layout, Accordion\n",
    "import ipywidgets as widgets"
   ]
  },
  {
   "cell_type": "code",
   "execution_count": 433,
   "metadata": {},
   "outputs": [],
   "source": [
    "class ProbvalError(Exception):\n",
    "    pass\n",
    "class NodenameError(Exception):\n",
    "    pass\n",
    "    \n",
    "class Model:\n",
    "    def __init__(self):\n",
    "        self.nodes = []\n",
    "    def name_exists(self, name):\n",
    "        return name in [i.name for i in self.nodes]\n",
    "    def get_id(self):\n",
    "        if self.nodes:\n",
    "            return max([i.id for i in self.nodes]) + 1\n",
    "        else:\n",
    "            return 0\n",
    "    def add_node(self, name):\n",
    "        new_node = Node(self, name)\n",
    "        self.nodes.append(new_node)\n",
    "        return new_node\n",
    "    def get_node(self, node_id):\n",
    "        found_node = None\n",
    "        for n in self.nodes:\n",
    "            if n.id == node_id:\n",
    "                found_node = n\n",
    "                break\n",
    "        return found_node\n",
    "    def get_node_byname(self, node_name):\n",
    "        found_node = None\n",
    "        for n in self.nodes:\n",
    "            if n.name == node_name:\n",
    "                found_node = n\n",
    "                break\n",
    "        return found_node\n",
    "    def dump(self, fname):\n",
    "        outmodel = {\n",
    "            'nodenames': {},\n",
    "            'graph': []\n",
    "        }\n",
    "        for n in self.nodes:\n",
    "            outmodel['nodenames'][n.id] = n.name\n",
    "            outmodel['graph'].append({\n",
    "                'id': n.id,\n",
    "                'edges_out': [i.id for i in n.edges_out],\n",
    "                'edges_in': [i.id for i in n.edges_in],\n",
    "                'unit_long': n.unit_long,\n",
    "                'unit_short': n.unit_short,\n",
    "                'values': n.values,\n",
    "                'probs': [p.probstring() for p in n.probs]\n",
    "            })\n",
    "        print(outmodel)\n",
    "        out_j = json.dumps(outmodel)\n",
    "        ofile = open(fname, 'w')\n",
    "        ofile.write(out_j)\n",
    "        ofile.close()\n",
    "        return out_j\n",
    "            \n",
    "class Prob:\n",
    "    def __init__(self, input_pairs, output, prob):\n",
    "        self.inputs = input_pairs\n",
    "        self.output = output\n",
    "        self.prob = prob\n",
    "    def probstring(self):\n",
    "        input_pairs_strings = ['{0};{1}'.format(str(i[0]), str(i[1])) for i in self.inputs]\n",
    "        input_pairs_strings.sort()\n",
    "        return '{0}:{1}@{2}'.format(str(self.output), ';;'.join(input_pairs_strings), str(self.prob))\n",
    "    \n",
    "class Node:\n",
    "    def __init__(self, model, name):\n",
    "        if ';' in name or '@' in name or ':' in name:\n",
    "            raise NodenameError\n",
    "        self.model = model\n",
    "        self.id = model.get_id()\n",
    "        self.name = name.lower().replace('\"', '')\n",
    "        self.edges_out = []\n",
    "        self.edges_in = []\n",
    "        self.unit_long = None\n",
    "        self.unit_short = None\n",
    "        self.values = []\n",
    "        self.probs = []\n",
    "    def set_unit(self, unit_long=None, unit_short=None):\n",
    "        self.unit_long = unit_long\n",
    "        self.unit_short = unit_short\n",
    "    def set_values(self, value_list):\n",
    "        for i in value_list:\n",
    "            if not i in self.values:\n",
    "                self.values.append(i)\n",
    "    def get_prob(self, input_pairs, output):   \n",
    "        input_pairs_strings = ['{0};{1}'.format(str(i[0]), str(i[1])) for i in input_pairs]\n",
    "        input_pairs_strings.sort()\n",
    "        teststring = '{0}:{1}'.format(str(output), ';;'.join(input_pairs_strings))\n",
    "        for p in self.probs:\n",
    "            if p.probstring == teststring:\n",
    "                return p\n",
    "        return None\n",
    "        \n",
    "    def set_prob(self, input_pairs, output, prob):\n",
    "        if prob < 0 or prob > 1:\n",
    "            raise ProbvalError\n",
    "        p = self.get_prob(input_pairs, output)\n",
    "        if p:\n",
    "            p.prob = prob\n",
    "        else:\n",
    "            p = Prob(inputs, output, prob)"
   ]
  },
  {
   "cell_type": "code",
   "execution_count": 441,
   "metadata": {},
   "outputs": [],
   "source": [
    "def load_model(fname):\n",
    "    ifile = open(fname, 'r')\n",
    "    model_json = ifile.read()\n",
    "    ifile.close()\n",
    "    inmodel = json.loads(model_json)\n",
    "    new_model = Model()\n",
    "    new_nodes = {}\n",
    "    for n in inmodel['graph']:\n",
    "        new_node = Node(new_model, inmodel['nodenames'][str(n['id'])])\n",
    "        new_node.id = n['id']\n",
    "        new_node.unit_long = n['unit_long']\n",
    "        new_node.unit_short = n['unit_short']\n",
    "        new_node.values = n['values'][:]\n",
    "        for p in n['probs']:\n",
    "            items_colon = p.split(':')\n",
    "            output = items_colon[0]\n",
    "            items_colon_at = items_colon[1].split('@')\n",
    "            prob = float(items_colon_at[1])\n",
    "            input_pair_strings = (items_colon_at[0]).split(';;')\n",
    "            inputs = [i.split(';') for i in input_pair_strings]\n",
    "            new_node.probs.append(Prob(inputs, output, prob))\n",
    "        new_nodes[n['id']] = new_node\n",
    "        new_model.nodes.append(new_node)\n",
    "    for n in inmodel['graph']:\n",
    "        for outnode_id in n['edges_out']:\n",
    "            connect_nodes(new_nodes[n['id']], new_nodes[outnode_id])\n",
    "    return new_model"
   ]
  },
  {
   "cell_type": "code",
   "execution_count": 442,
   "metadata": {},
   "outputs": [
    {
     "name": "stdout",
     "output_type": "stream",
     "text": [
      "{'nodenames': {'3': 'fuel mix', '4': 'fuel sales', '0': 'ghg', '2': 'temperature', '5': 'vehicle emissions', '1': 'vmt'}, 'graph': [{'id': 3, 'edges_out': [5], 'edges_in': [], 'unit_long': None, 'unit_short': None, 'values': ['high emission', 'low emission'], 'probs': ['high emission:@0.5', 'low emission:@0.5']}, {'id': 4, 'edges_out': [], 'edges_in': [1], 'unit_long': None, 'unit_short': None, 'values': ['high sales', 'moderate sales', 'low sales'], 'probs': ['high sales:1;very high@0.8', 'high sales:1;high@0.7', 'high sales:1;moderate@0.3', 'high sales:1;low@0.1', 'moderate sales:1;very high@0.15', 'moderate sales:1;high@0.2', 'moderate sales:1;moderate@0.5', 'moderate sales:1;low@0.2', 'low sales:1;very high@0.05', 'low sales:1;high@0.1', 'low sales:1;moderate@0.2', 'low sales:1;low@0.7']}, {'id': 0, 'edges_out': [2], 'edges_in': [5], 'unit_long': None, 'unit_short': None, 'values': ['high', 'moderate', 'low'], 'probs': ['high:5;high@0.6', 'high:5;moderate@0.3', 'high:5;low@0.1', 'moderate:5;high@0.3', 'moderate:5;moderate@0.5', 'moderate:5;low@0.2', 'low:5;high@0.1', 'low:5;moderate@0.2', 'low:5;low@0.7']}, {'id': 2, 'edges_out': [], 'edges_in': [0], 'unit_long': None, 'unit_short': None, 'values': ['very high', 'high', 'moderate'], 'probs': ['very high:0;high@0.4', 'very high:0;moderate@0.2', 'very high:0;low@0.1', 'high:0;high@0.4', 'high:0;moderate@0.4', 'high:0;low@0.2', 'moderate:0;high@0.2', 'moderate:0;moderate@0.4', 'moderate:0;low@0.7']}, {'id': 5, 'edges_out': [0], 'edges_in': [1, 3], 'unit_long': None, 'unit_short': None, 'values': ['high', 'moderate', 'low'], 'probs': ['high:1;very high;;3;high emission@0.7', 'high:1;very high;;3;low emission@0.5', 'high:1;high;;3;high emission@0.65', 'high:1;high;;3;low emission@0.4', 'high:1;moderate;;3;high emission@0.5', 'high:1;moderate;;3;low emission@0.3', 'high:1;low;;3;high emission@0.25', 'high:1;low;;3;low emission@0.1', 'moderate:1;very high;;3;high emission@0.25', 'moderate:1;very high;;3;low emission@0.4', 'moderate:1;high;;3;high emission@0.3', 'moderate:1;high;;3;low emission@0.5', 'moderate:1;moderate;;3;high emission@0.4', 'moderate:1;moderate;;3;low emission@0.5', 'moderate:1;low;;3;high emission@0.5', 'moderate:1;low;;3;low emission@0.3', 'low:1;very high;;3;high emission@0.05', 'low:1;very high;;3;low emission@0.1', 'low:1;high;;3;high emission@0.05', 'low:1;high;;3;low emission@0.1', 'low:1;moderate;;3;high emission@0.1', 'low:1;moderate;;3;low emission@0.2', 'low:1;low;;3;high emission@0.25', 'low:1;low;;3;low emission@0.6']}, {'id': 1, 'edges_out': [4, 5], 'edges_in': [], 'unit_long': None, 'unit_short': None, 'values': ['very high', 'high', 'moderate', 'low'], 'probs': ['very high:@0.3', 'high:@0.4', 'moderate:@0.2', 'low:@0.1']}]}\n"
     ]
    }
   ],
   "source": [
    "M=load_model('testdump.json')"
   ]
  },
  {
   "cell_type": "code",
   "execution_count": 4,
   "metadata": {},
   "outputs": [],
   "source": [
    "def connect_nodes(from_node, to_node):\n",
    "    if not to_node in from_node.edges_out:\n",
    "        from_node.edges_out.append(to_node)\n",
    "    if not from_node in to_node.edges_in:\n",
    "        to_node.edges_in.append(from_node)\n",
    "def disconnect_nodes(from_node, to_node):\n",
    "    if to_node in from_node.edges_out:\n",
    "        from_node.edges_out.remove(to_node)\n",
    "    if from_node in to_node.edges_in:\n",
    "        to_node.edges_in.remove(from_node)\n",
    "    for p in to_node.probs:\n",
    "        if from_node.id in [i.split(';')[0] for i in p.inputs]:\n",
    "            to_node.probs.remove(p)"
   ]
  },
  {
   "cell_type": "code",
   "execution_count": 181,
   "metadata": {},
   "outputs": [],
   "source": [
    "M = Model()\n",
    "g = M.add_node('ghg')\n",
    "d = M.add_node('vmt')\n",
    "connect_nodes(d, g)"
   ]
  },
  {
   "cell_type": "code",
   "execution_count": 182,
   "metadata": {},
   "outputs": [
    {
     "data": {
      "application/vnd.jupyter.widget-view+json": {
       "model_id": "66fdb64b92b542f981afd6f765732ea8",
       "version_major": 2,
       "version_minor": 0
      },
      "text/plain": [
       "HBox(children=(HTML(value='<div style=\"padding-right:20px\"><b>Current nodes</b><ul style=\"list-style-type: non…"
      ]
     },
     "metadata": {},
     "output_type": "display_data"
    }
   ],
   "source": [
    "# EDIT NODES\n",
    "\n",
    "def add_nodes_from_box(e):\n",
    "    namelist = [i.strip().lower().replace('\"','') for i in node_textinput.value.split(',')]\n",
    "    for name in namelist:\n",
    "        M.add_node(name)\n",
    "    node_textinput.value = ''\n",
    "    refresh_nodelist()\n",
    "    \n",
    "current_nodelist = widgets.HTML(value='')\n",
    "node_textinput = widgets.Textarea(\n",
    "        value='',\n",
    "        placeholder='New nodes here, separated by commas',\n",
    "        description='',\n",
    "        disabled=False\n",
    "    )\n",
    "addnodes_button = widgets.Button(\n",
    "        description='Add nodes',\n",
    "        disabled=False,\n",
    "        button_style='', # 'success', 'info', 'warning', 'danger' or ''\n",
    "        tooltip='Add nodes',\n",
    "        icon='' # (FontAwesome names without the `fa-` prefix)\n",
    "    )\n",
    "addnodes_button.on_click(add_nodes_from_box)\n",
    "editnode_box = widgets.HBox([current_nodelist, node_textinput, addnodes_button])\n",
    "def refresh_nodelist():\n",
    "    nodelist = M.nodes\n",
    "    nodelist.sort(key=lambda x: x.name)\n",
    "    html = '<div style=\"padding-right:20px\"><b>Current nodes</b><ul style=\"list-style-type: none\"><li>{}</li></ul></div>'.format('</li><li>'.join([i.name for i in nodelist]))\n",
    "    current_nodelist.set_trait('value', html)\n",
    "    #focal_node = M.get_node(int(focus_selector.value.split(':')[0]))\n",
    "    setup_connectormenu()\n",
    "    update_matrix()\n",
    "\n",
    "def setup_editnodes():\n",
    "    refresh_nodelist()\n",
    "    \n",
    "setup_editnodes()\n",
    "editnode_box"
   ]
  },
  {
   "cell_type": "code",
   "execution_count": 184,
   "metadata": {},
   "outputs": [],
   "source": [
    "# EDIT EDGES\n",
    "\n",
    "in_checkboxes = {}\n",
    "out_checkboxes = {}\n",
    "listen_connections = False\n",
    "\n",
    "nodelist = M.nodes\n",
    "nodelist.sort(key=lambda x:x.name)\n",
    "connection_focalnode = nodelist[random.randint(0, len(nodelist)-1)]\n",
    "\n",
    "focus_selector = None\n",
    "\n",
    "connector_menu = widgets.HBox([widgets.HTML(), widgets.HTML(), widgets.HTML()])\n",
    "\n",
    "def update_connections_in(e):\n",
    "    if listen_connections:\n",
    "        name = e['owner'].trait_values()['description']\n",
    "        in_node = M.get_node_byname(name)\n",
    "        focal_node = connection_focalnode\n",
    "        if in_checkboxes[in_node.id].value:\n",
    "            connect_nodes(in_node, focal_node)\n",
    "        else:\n",
    "            disconnect_nodes(in_node, focal_node)\n",
    "        update_matrix()\n",
    "def update_connections_out(e):\n",
    "    if listen_connections:\n",
    "        name = e['owner'].trait_values()['description']\n",
    "        out_node = M.get_node_byname(name)\n",
    "        focal_node = connection_focalnode\n",
    "        if out_checkboxes[out_node.id].value:\n",
    "            connect_nodes(focal_node, out_node)\n",
    "        else:\n",
    "            disconnect_nodes(focal_node, out_node)\n",
    "        update_matrix()\n",
    "\n",
    "def update_connectionmenus(e):\n",
    "    global connection_focalnode\n",
    "    global listen_connections\n",
    "    listen_connections = False\n",
    "    connection_focalnode = M.get_node(int(e['new'].split(':')[0]))\n",
    "    for n in M.nodes:\n",
    "        in_checkboxes[n.id].value = n in connection_focalnode.edges_in\n",
    "        in_checkboxes[n.id].disabled = n == connection_focalnode\n",
    "        out_checkboxes[n.id].value = n in connection_focalnode.edges_out\n",
    "        out_checkboxes[n.id].disabled = n == connection_focalnode\n",
    "    listen_connections = True\n",
    "    \n",
    "def setup_connectormenu():\n",
    "    global focus_selector\n",
    "    global connector_menu\n",
    "    global listen_connections\n",
    "    global in_checkboxes\n",
    "    global out_checkboxes\n",
    "    \n",
    "    focus_selector = widgets.Dropdown(\n",
    "            options=['{0}: {1}'.format(str(i.id), i.name) for i in nodelist],\n",
    "            value='{0}: {1}'.format(str(connection_focalnode.id), connection_focalnode.name),\n",
    "            description='Focal node',\n",
    "            disabled=False,\n",
    "        )\n",
    "    focus_selector.observe(update_connectionmenus, names='value')\n",
    "    \n",
    "    options = M.nodes\n",
    "    options.sort(key=lambda x:x.name)\n",
    "    \n",
    "    in_checkboxes = {}\n",
    "    out_checkboxes = {}\n",
    "    for n in options:\n",
    "        in_checkboxes[n.id] = widgets.Checkbox(\n",
    "            value = n in connection_focalnode.edges_in,\n",
    "            disabled = n == connection_focalnode,\n",
    "            description = n.name,\n",
    "            indent = False\n",
    "        )\n",
    "        in_checkboxes[n.id].observe(update_connections_in, names='value')\n",
    "        \n",
    "        out_checkboxes[n.id] = widgets.Checkbox(\n",
    "            value = n in connection_focalnode.edges_out,\n",
    "            disabled = n == connection_focalnode,\n",
    "            description = n.name,\n",
    "            indent = False\n",
    "        )\n",
    "        out_checkboxes[n.id].observe(update_connections_out, names='value')\n",
    "    listen_connections = True\n",
    "\n",
    "    connector_menu = widgets.HBox([widgets.VBox(list(in_checkboxes.values())), focus_selector, widgets.VBox(list(out_checkboxes.values()))])"
   ]
  },
  {
   "cell_type": "code",
   "execution_count": 186,
   "metadata": {},
   "outputs": [
    {
     "data": {
      "application/vnd.jupyter.widget-view+json": {
       "model_id": "120294637c1b42bbb6ca295d8ef4d303",
       "version_major": 2,
       "version_minor": 0
      },
      "text/plain": [
       "HBox(children=(VBox(children=(Checkbox(value=True, description='fuel mix', indent=False), Checkbox(value=False…"
      ]
     },
     "metadata": {},
     "output_type": "display_data"
    }
   ],
   "source": [
    "setup_connectormenu()\n",
    "connector_menu"
   ]
  },
  {
   "cell_type": "code",
   "execution_count": 205,
   "metadata": {},
   "outputs": [
    {
     "name": "stdout",
     "output_type": "stream",
     "text": [
      "No cycles found\n"
     ]
    }
   ],
   "source": [
    "# CHECK FOR CYCLES\n",
    "\n",
    "def find_cycles():\n",
    "    current_graph = nx.DiGraph()\n",
    "    edge_list = []\n",
    "    for n in M.nodes:\n",
    "        if n.edges_out:\n",
    "            edge_list += [(n.name, i.name) for i in n.edges_out]\n",
    "    current_graph.add_edges_from(edge_list)\n",
    "    cycles = list(nx.simple_cycles(current_graph))\n",
    "    if cycles:\n",
    "        for cycle in cycles:\n",
    "            print('{0} -> {1}'.format(' -> '.join(cycle), cycle[0]))\n",
    "    else:\n",
    "        print('No cycles found')\n",
    "\n",
    "find_cycles()"
   ]
  },
  {
   "cell_type": "code",
   "execution_count": 196,
   "metadata": {},
   "outputs": [
    {
     "data": {
      "text/plain": [
       "[]"
      ]
     },
     "execution_count": 196,
     "metadata": {},
     "output_type": "execute_result"
    }
   ],
   "source": [
    "list(c)"
   ]
  },
  {
   "cell_type": "code",
   "execution_count": 183,
   "metadata": {
    "scrolled": false
   },
   "outputs": [
    {
     "data": {
      "application/vnd.jupyter.widget-view+json": {
       "model_id": "9541ff9615df4fe8b039a2f93ee244cc",
       "version_major": 2,
       "version_minor": 0
      },
      "text/plain": [
       "HTML(value='<table style=\"border:1px solid gray; border-collapse:collapse\"><tr><th style=\"padding:10px; border…"
      ]
     },
     "metadata": {},
     "output_type": "display_data"
    }
   ],
   "source": [
    "# CONNECTIVITY MATRIX\n",
    "\n",
    "matrix = widgets.HTML(value='')\n",
    "def update_matrix():\n",
    "    global matrix\n",
    "    nodelist = M.nodes\n",
    "    nodelist.sort(key=lambda x:x.name)\n",
    "    html = '<table style=\"border:1px solid gray; border-collapse:collapse\"><tr><th style=\"padding:10px; border:1px solid gray; border-collapse:collapse\"></th><th style=\"padding:10px\">{}</th></tr>'.format('</th><th style=\"padding:10px; border:1px solid gray; border-collapse:collapse\">'.join([i.name for i in nodelist]))\n",
    "    for n in nodelist:\n",
    "        html += '<tr><th style=\"padding:10px; border:1px solid gray; border-collapse:collapse\">{0}</th><td style=\"padding:10px; border:1px solid gray; border-collapse:collapse\">{1}</td></tr>'.format(n.name, '</td><td style=\"padding:10px; border:1px solid gray; border-collapse:collapse\">'.join([['', 'X'][int(n in i.edges_in)] for i in nodelist]))\n",
    "    html += '</table>'\n",
    "    matrix.set_trait('value', html)\n",
    "update_matrix()\n",
    "matrix"
   ]
  },
  {
   "cell_type": "code",
   "execution_count": 447,
   "metadata": {},
   "outputs": [
    {
     "data": {
      "text/html": [
       "\n",
       "        <iframe\n",
       "            width=\"800\"\n",
       "            height=\"800\"\n",
       "            src=\"currentgraph.html\"\n",
       "            frameborder=\"0\"\n",
       "            allowfullscreen\n",
       "            \n",
       "        ></iframe>\n",
       "        "
      ],
      "text/plain": [
       "<IPython.lib.display.IFrame at 0x1cfc16d0d30>"
      ]
     },
     "execution_count": 447,
     "metadata": {},
     "output_type": "execute_result"
    }
   ],
   "source": [
    "# GRAPH VISUALIZATION\n",
    "\n",
    "edge_list = []\n",
    "for n in M.nodes:\n",
    "    if n.edges_out:\n",
    "        edge_list += [(n.id, i.id) for i in n.edges_out]\n",
    "\n",
    "g = Network(height=800, width=800, directed=True, notebook=True)\n",
    "g.toggle_hide_edges_on_drag(False)\n",
    "for n in M.nodes:\n",
    "    g.add_node(n.id, label=n.name, color='white', shape='box')\n",
    "for e in edge_list:\n",
    "    g.add_edge(*e, arrowStrikethrough=False, color='black')\n",
    "g.repulsion(node_distance=100, spring_length=200)\n",
    "g.show('currentgraph.html')\n"
   ]
  },
  {
   "cell_type": "code",
   "execution_count": 206,
   "metadata": {
    "scrolled": true
   },
   "outputs": [
    {
     "data": {
      "application/vnd.jupyter.widget-view+json": {
       "model_id": "2624b95ef74f4fb091f4b25e65e9b6ee",
       "version_major": 2,
       "version_minor": 0
      },
      "text/plain": [
       "HBox(children=(Dropdown(description='Focal node', index=1, options=('3: fuel mix', '4: fuel sales', '0: ghg', …"
      ]
     },
     "metadata": {},
     "output_type": "display_data"
    }
   ],
   "source": [
    "# EDIT VALUES\n",
    "\n",
    "nodelist = M.nodes\n",
    "nodelist.sort(key=lambda x:x.name)\n",
    "values_focalnode = nodelist[random.randint(0, len(nodelist)-1)]\n",
    "\n",
    "def update_valueseditor(e):\n",
    "    global values_focalnode\n",
    "    values_focalnode = M.get_node(int(e['new'].split(':')[0]))\n",
    "    values_editor.value = '\\n'.join(values_focalnode.values)\n",
    "\n",
    "def update_values(e):\n",
    "    valstring = values_editor.value\n",
    "    values_focalnode.values = [i.strip().lower().replace('\"','') for i in valstring.split('\\n')]\n",
    "    savevalues_button.disabled = True\n",
    "    \n",
    "def update_buttonstate(e):\n",
    "    savevalues_button.disabled = False\n",
    "\n",
    "focus_selector_values = widgets.Dropdown(\n",
    "        options = ['{0}: {1}'.format(str(i.id), i.name) for i in nodelist],\n",
    "        value = '{0}: {1}'.format(str(values_focalnode.id), values_focalnode.name),\n",
    "        description = 'Focal node',\n",
    "        disabled = False,\n",
    "    )\n",
    "focus_selector_values.observe(update_valueseditor, names='value')\n",
    "values_editor = widgets.Textarea(\n",
    "        value = '\\n'.join(values_focalnode.values),\n",
    "        placeholder = 'Enter linebreak-separated values',\n",
    "        description = '',\n",
    "        disabled=False\n",
    "    )\n",
    "values_editor.observe(update_buttonstate, names='value')\n",
    "savevalues_button = widgets.Button(\n",
    "        description='Save values',\n",
    "        disabled=False,\n",
    "        button_style='', # 'success', 'info', 'warning', 'danger' or ''\n",
    "        tooltip='Save values',\n",
    "        icon='' # (FontAwesome names without the `fa-` prefix)\n",
    "    )\n",
    "savevalues_button.on_click(update_values)\n",
    "\n",
    "values_box = widgets.HBox([focus_selector_values, values_editor, savevalues_button])\n",
    "values_box"
   ]
  },
  {
   "cell_type": "code",
   "execution_count": 235,
   "metadata": {
    "scrolled": false
   },
   "outputs": [
    {
     "data": {
      "application/vnd.jupyter.widget-view+json": {
       "model_id": "97c78c4dfc124ec2a5221a314c2df2de",
       "version_major": 2,
       "version_minor": 0
      },
      "text/plain": [
       "HBox(children=(VBox(children=(Dropdown(description='Focal node', options=('3: fuel mix', '4: fuel sales', '0: …"
      ]
     },
     "metadata": {},
     "output_type": "display_data"
    },
    {
     "name": "stdout",
     "output_type": "stream",
     "text": [
      "['fuel mix\\t\\n', 'high emission\\t0.4\\n', 'low emission\\t0.6\\n']\n",
      "['fuel mix\\t\\n', 'high emission\\t0.4\\n', 'low emission\\t0.6\\n']\n",
      "['fuel sales\\tvmt\\t\\n', 'high sales\\tvery high\\t0.8\\n', 'high sales\\thigh\\t0.7\\n', 'high sales\\tmoderate\\t0.3\\n', 'high sales\\tlow\\t0.1\\n', 'moderate sales\\tvery high\\t0.15\\n', 'moderate sales\\thigh\\t0.2\\n', 'moderate sales\\tmoderate\\t0.5\\n', 'moderate sales\\tlow\\t0.3\\n', 'low sales\\tvery high\\t0.05\\n', 'low sales\\thigh\\t0.1\\n', 'low sales\\tmoderate\\t0.2\\n', 'low sales\\tlow\\t0.7\\n']\n",
      "['ghg\\tvehicle emissions\\t\\n', 'high\\thigh\\t0.6\\n', 'high\\tmoderate\\t0.3\\n', 'high\\tlow\\t0.1\\n', 'moderate\\thigh\\t0.3\\n', 'moderate\\tmoderate\\t0.5\\n', 'moderate\\tlow\\t0.2\\n', 'low\\thigh\\t0.1\\n', 'low\\tmoderate\\t0.2\\n', 'low\\tlow\\t0.7\\n']\n",
      "['temperature\\tghg\\t\\n', 'very high\\thigh\\t0.4\\n', 'very high\\tmoderate\\t0.2\\n', 'very high\\tlow\\t0.1\\n', 'high\\thigh\\t0.4\\n', 'high\\tmoderate\\t0.4\\n', 'high\\tlow\\t0.2\\n', 'moderate\\thigh\\t0.2\\n', 'moderate\\tmoderate\\t0.4\\n', 'moderate\\tlow\\t0.7\\n']\n",
      "['vehicle emissions\\tvmt\\tfuel mix\\t\\n', 'high\\tvery high\\thigh emission\\t0.7\\n', 'high\\tvery high\\tlow emission\\t0.5\\n', 'high\\thigh\\thigh emission\\t0.65\\n', 'high\\thigh\\tlow emission\\t0.4\\n', 'high\\tmoderate\\thigh emission\\t0.5\\n', 'high\\tmoderate\\tlow emission\\t0.3\\n', 'high\\tlow\\thigh emission\\t0.25\\n', 'high\\tlow\\tlow emission\\t0.1\\n', 'moderate\\tvery high\\thigh emission\\t0.25\\n', 'moderate\\tvery high\\tlow emission\\t0.4\\n', 'moderate\\thigh\\thigh emission\\t0.3\\n', 'moderate\\thigh\\tlow emission\\t0.5\\n', 'moderate\\tmoderate\\thigh emission\\t0.4\\n', 'moderate\\tmoderate\\tlow emission\\t0.5\\n', 'moderate\\tlow\\thigh emission\\t0.5\\n', 'moderate\\tlow\\tlow emission\\t0.3\\n', 'low\\tvery high\\thigh emission\\t0.05\\n', 'low\\tvery high\\tlow emission\\t0.1\\n', 'low\\thigh\\thigh emission\\t0.05\\n', 'low\\thigh\\tlow emission\\t0.1\\n', 'low\\tmoderate\\thigh emission\\t0.1\\n', 'low\\tmoderate\\tlow emission\\t0.2\\n', 'low\\tlow\\thigh emission\\t0.25\\n', 'low\\tlow\\tlow emission\\t0.6\\n']\n",
      "['vmt\\t\\n', 'very high\\t0.3\\n', 'high\\t0.4\\n', 'moderate\\t0.2\\n', 'low\\t0.1\\n']\n",
      "['fuel sales\\tvmt\\t\\n', 'high sales\\tvery high\\t0.8\\n', 'high sales\\thigh\\t0.7\\n', 'high sales\\tmoderate\\t0.3\\n', 'high sales\\tlow\\t0.1\\n', 'moderate sales\\tvery high\\t0.15\\n', 'moderate sales\\thigh\\t0.2\\n', 'moderate sales\\tmoderate\\t0.5\\n', 'moderate sales\\tlow\\t0.2\\n', 'low sales\\tvery high\\t0.05\\n', 'low sales\\thigh\\t0.1\\n', 'low sales\\tmoderate\\t0.2\\n', 'low sales\\tlow\\t0.7\\n']\n",
      "['fuel mix\\t\\n', 'high emission\\t0.5\\n', 'low emission\\t0.5\\n']\n"
     ]
    }
   ],
   "source": [
    "# EDIT PROBS\n",
    "\n",
    "\n",
    "nodelist = M.nodes\n",
    "nodelist.sort(key=lambda x:x.name)\n",
    "probs_focalnode = nodelist[random.randint(0, len(nodelist)-1)]\n",
    "values_combos_display = widgets.HTML(value='')\n",
    "\n",
    "def update_probseditor(e = None):\n",
    "    global probs_focalnode\n",
    "    if e:\n",
    "        probs_focalnode = M.get_node(int(e['new'].split(':')[0]))\n",
    "    \n",
    "    input_nodes = probs_focalnode.edges_in\n",
    "    input_values = [i.values for i in input_nodes]\n",
    "    all_values = [probs_focalnode.values] + input_values\n",
    "    all_combos = list(iterprod(*all_values))\n",
    "    \n",
    "    html = '<table><tr><th style=\"padding-left:5px;padding-right:5px\">{}</th><th style=\"padding-left:5px;padding-right:5px\">Prob</th></tr>'.format('</th><th style=\"padding-left:5px;padding-right:5px\">'.join([probs_focalnode.name] + [i.name for i in input_nodes]))\n",
    "    for c in all_combos:\n",
    "        html += '<tr><td style=\"padding-left:5px;padding-right:5px\">{0}</td><td style=\"padding-left:5px;padding-right:5px\">{1}</td></tr>'.format('</td><td style=\"padding-left:5px;padding-right:5px\">'.join(c), ['missing', '?'][int(True)])\n",
    "    html += '</table>'\n",
    "    values_combos_display.set_trait('value', html)\n",
    "    \n",
    "    prob_template = open('prob template {}.txt'.format(probs_focalnode.name), 'w')\n",
    "    prob_template.write('\\t'.join([probs_focalnode.name] + [i.name for i in input_nodes]))\n",
    "    prob_template.write('\\n')\n",
    "    for c in all_combos:\n",
    "        prob_template.write('\\t'.join(c))\n",
    "        prob_template.write('\\n')\n",
    "    prob_template.close()\n",
    "    \n",
    "def download_probtemplate(e):\n",
    "    input_nodes = probs_focalnode.edges_in\n",
    "    input_values = [i.values for i in input_nodes]\n",
    "    all_values = [probs_focalnode.values] + input_values\n",
    "    all_combos = list(iterprod(*all_values))\n",
    "    \n",
    "    prob_template = open('prob template {}.txt'.format(probs_focalnode.name), 'w')\n",
    "    prob_template.write('\\t'.join([probs_focalnode.name] + [i.name for i in input_nodes] + ['Prob']))\n",
    "    prob_template.write('\\n')\n",
    "    for c in all_combos:\n",
    "        prob_template.write('\\t'.join(c))\n",
    "        prob_template.write('\\n')\n",
    "    prob_template.close()\n",
    "    \n",
    "def upload_probtemplate(e):\n",
    "    prob_template = open('prob template {} completed.txt'.format(probs_focalnode.name), 'r')\n",
    "    ilines = prob_template.readlines()\n",
    "    prob_template.close()\n",
    "    inodes = [M.get_node_byname(i) for i in [j.strip() for j in ilines[0].split('\\t')[:-1]]]\n",
    "    probs_focalnode.probs = []\n",
    "    for line in ilines[1:]:\n",
    "        items = [i.strip() for i in line.split('\\t')]\n",
    "        valpairs = []\n",
    "        for n_idx in range(1, len(inodes)):\n",
    "            inode = inodes[n_idx]\n",
    "            ival = items[n_idx]\n",
    "            valpairs.append((inode.id, ival))\n",
    "        prob = float(items[-1])\n",
    "        probs_focalnode.probs.append(Prob(valpairs, items[0], prob))\n",
    "\n",
    "focus_selector_probs = widgets.Dropdown(\n",
    "        options = ['{0}: {1}'.format(str(i.id), i.name) for i in nodelist],\n",
    "        value = '{0}: {1}'.format(str(probs_focalnode.id), probs_focalnode.name),\n",
    "        description = 'Focal node',\n",
    "        disabled = False,\n",
    "    )\n",
    "update_probseditor()\n",
    "download_prob_template_button = widgets.Button(\n",
    "        description='Download template',\n",
    "        disabled=False,\n",
    "        button_style='', # 'success', 'info', 'warning', 'danger' or ''\n",
    "        tooltip='Download probability template',\n",
    "        icon='' # (FontAwesome names without the `fa-` prefix)\n",
    "    )\n",
    "download_prob_template_button.on_click(download_probtemplate)\n",
    "upload_prob_template_button = widgets.Button(\n",
    "        description='Upload template',\n",
    "        disabled=False,\n",
    "        button_style='', # 'success', 'info', 'warning', 'danger' or ''\n",
    "        tooltip='Upload completed probability template',\n",
    "        icon='' # (FontAwesome names without the `fa-` prefix)\n",
    "    )\n",
    "upload_prob_template_button.on_click(upload_probtemplate)\n",
    "focus_selector_probs.observe(update_probseditor, names='value')\n",
    "widgets.HBox([widgets.VBox([focus_selector_probs, download_prob_template_button, upload_prob_template_button]), values_combos_display])\n"
   ]
  },
  {
   "cell_type": "code",
   "execution_count": 446,
   "metadata": {
    "scrolled": false
   },
   "outputs": [
    {
     "data": {
      "application/vnd.jupyter.widget-view+json": {
       "model_id": "e2727144960a4cd0b8c971aec4d5b5d2",
       "version_major": 2,
       "version_minor": 0
      },
      "text/plain": [
       "HBox(children=(VBox(children=(ToggleButtons(description='fuel mix', options=('no data', 'high emission', 'low …"
      ]
     },
     "metadata": {},
     "output_type": "display_data"
    }
   ],
   "source": [
    "# RUN SCENARIOS\n",
    "\n",
    "def run_query(e=None):\n",
    "    global current_states\n",
    "    if e:\n",
    "        node_name = e['owner'].trait_values()['description']\n",
    "        node = M.get_node_byname(node_name)\n",
    "        new_value = [e['new'], None][int(e['new']=='no data')]\n",
    "        current_states[node.name] = new_value\n",
    "\n",
    "    nodelist_a = M.nodes\n",
    "    card = {n.name: len(n.values) for n in nodelist_a}\n",
    "    edgelist = []\n",
    "    for n in nodelist_a:\n",
    "        edgelist += [(n.name, i.name) for i in n.edges_out]\n",
    "    model = BayesianNetwork(edgelist)\n",
    "    cpds = []\n",
    "    for n in nodelist_a:\n",
    "        probs = defaultdict(list)\n",
    "        for prob in n.probs:\n",
    "            probs[prob.output].append(prob.prob)\n",
    "        table = [probs[output] for output in n.values]\n",
    "        involved_nodes = [n]\n",
    "        if n.edges_in:\n",
    "            involved_nodes += n.edges_in\n",
    "        cpds.append(\n",
    "            TabularCPD(\n",
    "            variable = n.name,\n",
    "            variable_card = card[n.name],\n",
    "            values = table,\n",
    "            evidence = [i.name for i in n.edges_in],\n",
    "            evidence_card = [card[i] for i in [i.name for i in n.edges_in]],\n",
    "            state_names = {i.name: [str(j) for j in i.values] for i in involved_nodes}\n",
    "            )\n",
    "        )\n",
    "    model.add_cpds(*cpds)    \n",
    "    infer = VariableElimination(model)\n",
    "\n",
    "    nodelist = M.nodes\n",
    "    nodelist.sort(key=lambda x:x.name)\n",
    "    results = {}\n",
    "    for i in nodelist:\n",
    "        if current_states[i.name] is not None:\n",
    "            results[i] = [int(current_states[i.name] == j) for j in i.values]\n",
    "        else:\n",
    "            infer = VariableElimination(model)\n",
    "            results[i] = infer.query([i.name], show_progress=False, evidence = {j: current_states[j] for j in [k.name for k in nodelist] if ((current_states[j] is not None) and (i.name !=j))}).values\n",
    "    html_results = '<table style=\"border:1px solid gray; border-collapse:collapse\"><tr style=\"border:1px solid gray; border-collapse:collapse\"><th style=\"border:1px solid gray; border-collapse:collapse;padding-left:5px;padding-right:5px\">factor</th><th style=\"border:1px solid gray; border-collapse:collapse;padding-left:5px;padding-right:5px\">state</th><th style=\"border:1px solid gray; border-collapse:collapse;padding-left:5px;padding-right:5px\">prob</th></tr>'\n",
    "    for n in nodelist:\n",
    "        node_results = results[n]\n",
    "        max_prob = max(node_results) * 100\n",
    "        first_row = True\n",
    "        for v_idx in range(len(n.values)):\n",
    "            v = n.values[v_idx]\n",
    "            html_results += '<tr style=\"border:1px solid gray;border-collapse:collapse\">'\n",
    "            if first_row:\n",
    "                html_results += '<th rowspan=\"{0}\" style=\"padding-left:5px;padding-right:5px\">{1}</th>'.format(str(len(n.values)), n.name)\n",
    "                first_row = False\n",
    "            html_results += '<th style=\"border:1px solid gray; border-collapse:collapse;padding-left:5px;padding-right:5px{0}\">{1}</th><td style=\"border:1px solid gray; border-collapse:collapse;padding-left:5px;padding-right:5px\">{2:.1f}</td></tr>'.format(['', ';background-color:#ffff00;font-weight:bold'][int('{0:.1f}'.format(results[n][v_idx] * 100) == '{0:.1f}'.format(max_prob))], v, results[n][v_idx] * 100)\n",
    "    html_results += '</table>'\n",
    "    probdist_resultbox.set_trait('value', html_results)\n",
    "    \n",
    "current_states = {'n.id': None for n in nodelist}\n",
    "state_buttonsets = []\n",
    "nodelist = M.nodes\n",
    "nodelist.sort(key=lambda x:x.name)\n",
    "\n",
    "for n in nodelist:\n",
    "    state_buttons = widgets.ToggleButtons(\n",
    "        options = ['no data'] + n.values,\n",
    "        description = n.name,\n",
    "        disabled=False,\n",
    "        button_style='', # 'success', 'info', 'warning', 'danger' or ''\n",
    "        tooltips=[],\n",
    "    )\n",
    "    state_buttons.observe(run_query, names='value')\n",
    "    state_buttonsets.append(state_buttons)\n",
    "\n",
    "current_states = {n.name: None for n in nodelist}\n",
    "state_toggles_box = widgets.VBox(state_buttonsets)\n",
    "probdist_resultbox = widgets.HTML(value='')\n",
    "display(widgets.HBox([state_toggles_box, probdist_resultbox]))\n",
    "run_query()\n"
   ]
  },
  {
   "cell_type": "code",
   "execution_count": 415,
   "metadata": {},
   "outputs": [
    {
     "data": {
      "text/plain": [
       "{'fuel mix': 'high emission',\n",
       " 'fuel sales': None,\n",
       " 'ghg': None,\n",
       " 'temperature': None,\n",
       " 'vehicle emissions': None,\n",
       " 'vmt': None}"
      ]
     },
     "execution_count": 415,
     "metadata": {},
     "output_type": "execute_result"
    }
   ],
   "source": [
    "current_states"
   ]
  },
  {
   "cell_type": "code",
   "execution_count": null,
   "metadata": {},
   "outputs": [],
   "source": []
  }
 ],
 "metadata": {
  "kernelspec": {
   "display_name": "Python 3 (ipykernel)",
   "language": "python",
   "name": "python3"
  },
  "language_info": {
   "codemirror_mode": {
    "name": "ipython",
    "version": 3
   },
   "file_extension": ".py",
   "mimetype": "text/x-python",
   "name": "python",
   "nbconvert_exporter": "python",
   "pygments_lexer": "ipython3",
   "version": "3.9.10"
  }
 },
 "nbformat": 4,
 "nbformat_minor": 4
}
